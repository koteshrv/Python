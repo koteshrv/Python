{
 "cells": [
  {
   "cell_type": "markdown",
   "metadata": {},
   "source": [
    "- Inputs\n",
    "    - Static\n",
    "        - Value assigned in program\n",
    "    - Dynamic\n",
    "        - User Input\n",
    "        - input(\"\")"
   ]
  },
  {
   "cell_type": "code",
   "execution_count": 5,
   "metadata": {},
   "outputs": [
    {
     "name": "stdout",
     "output_type": "stream",
     "text": [
      "Enter a number: 100\n",
      "100\n",
      "<class 'str'>\n"
     ]
    }
   ],
   "source": [
    "# User input is read as string\n",
    "n = input(\"Enter a number: \")\n",
    "print(n)\n",
    "print(type(n))"
   ]
  },
  {
   "cell_type": "code",
   "execution_count": 3,
   "metadata": {},
   "outputs": [
    {
     "name": "stdout",
     "output_type": "stream",
     "text": [
      "Enter any number: 100\n",
      "100\n",
      "<class 'int'>\n"
     ]
    }
   ],
   "source": [
    "num = int(input(\"Enter any number: \"))\n",
    "print(num)\n",
    "print(type(num))"
   ]
  },
  {
   "cell_type": "code",
   "execution_count": 6,
   "metadata": {},
   "outputs": [
    {
     "name": "stdout",
     "output_type": "stream",
     "text": [
      "Enter a float number: 12.8\n",
      "12.8\n",
      "<class 'float'>\n"
     ]
    }
   ],
   "source": [
    "fnum = float(input(\"Enter a float number: \"))\n",
    "print(fnum)\n",
    "print(type(fnum))"
   ]
  },
  {
   "cell_type": "markdown",
   "metadata": {},
   "source": [
    "- Comments\n",
    "    - Single line comment - #\n",
    "    - Multiple line comment - ''' or \"\"\" (Between the comments)\n",
    "- Statement \n",
    "    - Unit of code that python interpreter executes\n",
    "    - Two types of statements\n",
    "        - Print statement \n",
    "        - Assignment statement\n",
    "- Script\n",
    "    - Lines of code to do a particular task\n",
    "    - More than one statements\n",
    "    - Result appears at a time"
   ]
  },
  {
   "cell_type": "code",
   "execution_count": 7,
   "metadata": {},
   "outputs": [
    {
     "name": "stdout",
     "output_type": "stream",
     "text": [
      "Python programming\n"
     ]
    }
   ],
   "source": [
    "print(\"Python programming\")"
   ]
  },
  {
   "cell_type": "code",
   "execution_count": 8,
   "metadata": {},
   "outputs": [],
   "source": [
    "a = 10"
   ]
  },
  {
   "cell_type": "code",
   "execution_count": 9,
   "metadata": {},
   "outputs": [
    {
     "name": "stdout",
     "output_type": "stream",
     "text": [
      "python 5 15\n"
     ]
    }
   ],
   "source": [
    "# Script\n",
    "name = 'python'\n",
    "a = 5\n",
    "b = a + 10\n",
    "print(name, a, b)"
   ]
  },
  {
   "cell_type": "markdown",
   "metadata": {},
   "source": [
    "- Operators\n",
    "    - Used to perform operations on variables and values\n",
    "    - Operations in python\n",
    "        - Arithmetic \n",
    "        - Logical\n",
    "        - Assignment\n",
    "        - Bitwise\n",
    "        - Comparison\n",
    "        - Membership\n",
    "        - Identity"
   ]
  },
  {
   "cell_type": "code",
   "execution_count": 13,
   "metadata": {},
   "outputs": [
    {
     "name": "stdout",
     "output_type": "stream",
     "text": [
      "Enter any number: 18\n",
      "Enter another number: 5\n",
      "23\n",
      "13\n",
      "90\n",
      "3.6\n",
      "3\n",
      "3\n",
      "1889568\n"
     ]
    }
   ],
   "source": [
    "'''  Arithmetic Operators\n",
    "     Addition +\n",
    "     Subtraction -\n",
    "     Multiplication *\n",
    "     Division /\n",
    "     Floor Division //\n",
    "     Exponential **\n",
    "     Modulus %\n",
    "'''\n",
    "\n",
    "num1 = int(input(\"Enter any number: \"))\n",
    "num2 = int(input(\"Enter another number: \"))\n",
    "add = num1 + num2\n",
    "print(add)\n",
    "sub = num1 - num2\n",
    "print(sub)\n",
    "mul = num1 * num2\n",
    "print(mul)\n",
    "div = num1 / num2\n",
    "print(div)\n",
    "mod = num1 % num2\n",
    "print(mod)\n",
    "floorDiv = num1 // num2\n",
    "print(floorDiv)\n",
    "exp = num1 ** num2\n",
    "print(exp)"
   ]
  },
  {
   "cell_type": "code",
   "execution_count": 18,
   "metadata": {},
   "outputs": [
    {
     "name": "stdout",
     "output_type": "stream",
     "text": [
      "Enter any number: 5\n",
      "Enter another number 10\n",
      "10\n",
      "5\n",
      "25\n",
      "2.0\n",
      "2.0\n",
      "5\n"
     ]
    }
   ],
   "source": [
    "# Assignment operators\n",
    "# used to assign values\n",
    "# =, +=, -=, *=, /=, %=, //=\n",
    "# a = a + b\n",
    "\n",
    "n1 = int(input(\"Enter any number: \"))\n",
    "n2 = int(input(\"Enter another number \"))\n",
    "a = 5\n",
    "n1 += a\n",
    "print(n1)\n",
    "n2 -= a\n",
    "print(n2)\n",
    "n2 *= a\n",
    "print(n2)\n",
    "n1 /= a\n",
    "print(n1)\n",
    "n1 %= a\n",
    "print(n1)\n",
    "n2 //= a\n",
    "print(n2)"
   ]
  },
  {
   "cell_type": "markdown",
   "metadata": {},
   "source": [
    "- Logical Operators\n",
    "    - Used to combine conditional operators\n",
    "    - AND, OR, NOT\n",
    "        - AND\n",
    "            - Returns true if both are true\n",
    "        - OR\n",
    "            - Returns true if atleast one is true\n",
    "        - NOT\n",
    "            Returns opposite to the result"
   ]
  },
  {
   "cell_type": "code",
   "execution_count": 21,
   "metadata": {},
   "outputs": [
    {
     "name": "stdout",
     "output_type": "stream",
     "text": [
      "True\n",
      "True\n",
      "True\n"
     ]
    }
   ],
   "source": [
    "a = 5\n",
    "print(a > 2 and a < 10)\n",
    "print(a > 2 or a < 10)\n",
    "print(not(a == 2))"
   ]
  },
  {
   "cell_type": "markdown",
   "metadata": {},
   "source": [
    "- Comparision Operators\n",
    "    - ==, >=, <=, !=, >, < \n",
    "    - Used to compare values"
   ]
  },
  {
   "cell_type": "code",
   "execution_count": 22,
   "metadata": {},
   "outputs": [
    {
     "name": "stdout",
     "output_type": "stream",
     "text": [
      "False\n",
      "True\n",
      "False\n",
      "True\n",
      "False\n",
      "True\n",
      "True\n"
     ]
    }
   ],
   "source": [
    "a = 5\n",
    "b = 6\n",
    "print(a == b)\n",
    "print(a != b)\n",
    "print(a > b)\n",
    "print(a < b)\n",
    "print(a >= b)\n",
    "print(a <= b)\n",
    "print(a != b)"
   ]
  },
  {
   "cell_type": "markdown",
   "metadata": {},
   "source": [
    "- Boolean represents only two values\n",
    "    - True or False\n",
    "    - Returns True\n",
    "        - When it has string, number, list, tuple, dictionary with values\n",
    "        - Returns true for any number except 0\n",
    "    - Returns False\n",
    "        - When it has empty lists, tuples, dict\n",
    "        - Keywords: False, None"
   ]
  },
  {
   "cell_type": "code",
   "execution_count": 23,
   "metadata": {},
   "outputs": [
    {
     "data": {
      "text/plain": [
       "True"
      ]
     },
     "execution_count": 23,
     "metadata": {},
     "output_type": "execute_result"
    }
   ],
   "source": [
    "bool(5)"
   ]
  },
  {
   "cell_type": "code",
   "execution_count": 24,
   "metadata": {},
   "outputs": [
    {
     "data": {
      "text/plain": [
       "False"
      ]
     },
     "execution_count": 24,
     "metadata": {},
     "output_type": "execute_result"
    }
   ],
   "source": [
    "bool(0)"
   ]
  },
  {
   "cell_type": "code",
   "execution_count": 25,
   "metadata": {},
   "outputs": [
    {
     "data": {
      "text/plain": [
       "False"
      ]
     },
     "execution_count": 25,
     "metadata": {},
     "output_type": "execute_result"
    }
   ],
   "source": [
    "bool(\"\")"
   ]
  },
  {
   "cell_type": "code",
   "execution_count": 26,
   "metadata": {},
   "outputs": [
    {
     "data": {
      "text/plain": [
       "True"
      ]
     },
     "execution_count": 26,
     "metadata": {},
     "output_type": "execute_result"
    }
   ],
   "source": [
    "bool(True)"
   ]
  },
  {
   "cell_type": "code",
   "execution_count": 27,
   "metadata": {},
   "outputs": [
    {
     "data": {
      "text/plain": [
       "False"
      ]
     },
     "execution_count": 27,
     "metadata": {},
     "output_type": "execute_result"
    }
   ],
   "source": [
    "bool(None)"
   ]
  },
  {
   "cell_type": "code",
   "execution_count": 28,
   "metadata": {},
   "outputs": [
    {
     "data": {
      "text/plain": [
       "False"
      ]
     },
     "execution_count": 28,
     "metadata": {},
     "output_type": "execute_result"
    }
   ],
   "source": [
    "bool([])"
   ]
  },
  {
   "cell_type": "code",
   "execution_count": 29,
   "metadata": {},
   "outputs": [
    {
     "data": {
      "text/plain": [
       "False"
      ]
     },
     "execution_count": 29,
     "metadata": {},
     "output_type": "execute_result"
    }
   ],
   "source": [
    "bool(())"
   ]
  },
  {
   "cell_type": "code",
   "execution_count": 30,
   "metadata": {},
   "outputs": [
    {
     "data": {
      "text/plain": [
       "False"
      ]
     },
     "execution_count": 30,
     "metadata": {},
     "output_type": "execute_result"
    }
   ],
   "source": [
    "bool({})"
   ]
  },
  {
   "cell_type": "code",
   "execution_count": 31,
   "metadata": {},
   "outputs": [
    {
     "data": {
      "text/plain": [
       "True"
      ]
     },
     "execution_count": 31,
     "metadata": {},
     "output_type": "execute_result"
    }
   ],
   "source": [
    "bool([1, 2, 3, 4, 5])"
   ]
  },
  {
   "cell_type": "markdown",
   "metadata": {},
   "source": [
    "- Membership operators\n",
    "    - Used to test a sequence(str, list, tuple, dict)\n",
    "    - in, not in"
   ]
  },
  {
   "cell_type": "code",
   "execution_count": 36,
   "metadata": {},
   "outputs": [
    {
     "name": "stdout",
     "output_type": "stream",
     "text": [
      "True\n",
      "False\n",
      "True\n",
      "True\n",
      "True\n"
     ]
    }
   ],
   "source": [
    "name = \"Python\"\n",
    "print('P' in name)\n",
    "print('z' in name)\n",
    "print('k' not in name)\n",
    "print(\"thon\" in name)"
   ]
  },
  {
   "cell_type": "markdown",
   "metadata": {},
   "source": [
    "- Identity operators\n",
    "    - is, is not\n",
    "    - Used to compare objects, not if they are equal\n",
    "    - If they are actually the same, with the same memory location "
   ]
  },
  {
   "cell_type": "code",
   "execution_count": 37,
   "metadata": {},
   "outputs": [
    {
     "name": "stdout",
     "output_type": "stream",
     "text": [
      "True\n",
      "True\n",
      "True\n"
     ]
    }
   ],
   "source": [
    "a = \"Python\"\n",
    "b = \"Python\"\n",
    "c = a\n",
    "print(a is c)\n",
    "print(a is b)\n",
    "print(a == c)"
   ]
  },
  {
   "cell_type": "code",
   "execution_count": 38,
   "metadata": {},
   "outputs": [
    {
     "name": "stdout",
     "output_type": "stream",
     "text": [
      "True\n",
      "False\n",
      "True\n"
     ]
    }
   ],
   "source": [
    "a = ['a', 'b', 'c']\n",
    "b = ['a', 'b', 'c']\n",
    "c = a\n",
    "print(a is c)   # Same object\n",
    "print(a is b)   # Same object but False due to memory allocation \n",
    "print(a == c)"
   ]
  },
  {
   "cell_type": "markdown",
   "metadata": {},
   "source": [
    "- Bitwise operators\n",
    "    - Used to compare binary values\n",
    "    - &, |, ^, ~, >>, <<"
   ]
  },
  {
   "cell_type": "code",
   "execution_count": 69,
   "metadata": {},
   "outputs": [
    {
     "data": {
      "text/plain": [
       "'0b1010'"
      ]
     },
     "execution_count": 69,
     "metadata": {},
     "output_type": "execute_result"
    }
   ],
   "source": [
    "bin(10)   "
   ]
  },
  {
   "cell_type": "code",
   "execution_count": 70,
   "metadata": {},
   "outputs": [
    {
     "data": {
      "text/plain": [
       "'0b10'"
      ]
     },
     "execution_count": 70,
     "metadata": {},
     "output_type": "execute_result"
    }
   ],
   "source": [
    "bin(2)"
   ]
  },
  {
   "cell_type": "code",
   "execution_count": null,
   "metadata": {},
   "outputs": [],
   "source": [
    "'''\n",
    "10 ----- 1010         1010         1010        1010\n",
    " 2 ----- 0010         0010                     0010\n",
    "    And ------    OR ------    ~  -------   ^ -------\n",
    "         0010         1010                     1000\n",
    "         \n",
    "         \n",
    "         \n",
    "                 ~ is ones complement + 1\n",
    "         \n",
    "                              1010\n",
    "         \n",
    "                     1's comp 0101\n",
    "                     \n",
    "                            +    1\n",
    "\n",
    "                     ------------------\n",
    "                              0110\n",
    "                              \n",
    "                        \n",
    "    10 << 2 means 10 is shifted by 2 bits\n",
    "    1010 << 2 = 101000\n",
    "                              \n",
    "'''"
   ]
  },
  {
   "cell_type": "code",
   "execution_count": 65,
   "metadata": {},
   "outputs": [
    {
     "name": "stdout",
     "output_type": "stream",
     "text": [
      "2\n",
      "10\n",
      "8\n",
      "-11\n",
      "40\n",
      "2\n"
     ]
    }
   ],
   "source": [
    "a, b = 10, 2\n",
    "print(a & b)\n",
    "print(a | b)\n",
    "print(a ^ b)\n",
    "print(~a)\n",
    "print(a << b)\n",
    "print(a >> b)"
   ]
  },
  {
   "cell_type": "code",
   "execution_count": null,
   "metadata": {},
   "outputs": [],
   "source": []
  }
 ],
 "metadata": {
  "kernelspec": {
   "display_name": "Python 3",
   "language": "python",
   "name": "python3"
  },
  "language_info": {
   "codemirror_mode": {
    "name": "ipython",
    "version": 3
   },
   "file_extension": ".py",
   "mimetype": "text/x-python",
   "name": "python",
   "nbconvert_exporter": "python",
   "pygments_lexer": "ipython3",
   "version": "3.8.3"
  }
 },
 "nbformat": 4,
 "nbformat_minor": 4
}
