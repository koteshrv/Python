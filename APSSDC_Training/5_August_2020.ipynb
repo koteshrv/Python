{
 "cells": [
  {
   "cell_type": "markdown",
   "metadata": {},
   "source": [
    "- Conditional Statements\n",
    "    - Decision making\n",
    "    - if\n",
    "        - syntax\n",
    "            - if condition :\n",
    "                statements\n",
    "    - if else\n",
    "        - syntax\n",
    "            - if condition:\n",
    "                statements\n",
    "              else:\n",
    "                statements\n",
    "    - if elif else\n",
    "        - syntax\n",
    "            - if condition:\n",
    "                statements\n",
    "              elif condition:\n",
    "                  statements\n",
    "              else:\n",
    "                statements\n",
    "    - Nested if\n",
    "        - syntax\n",
    "            - if condition:\n",
    "                statements\n",
    "                if condition:\n",
    "                    statements\n",
    "                elif condition:\n",
    "                    statements\n",
    "                else:\n",
    "                    statements\n",
    "        \n",
    "    \n",
    "    "
   ]
  },
  {
   "cell_type": "code",
   "execution_count": 2,
   "metadata": {},
   "outputs": [
    {
     "name": "stdout",
     "output_type": "stream",
     "text": [
      "Enter a number: 18\n",
      "18 is greater than 10\n"
     ]
    }
   ],
   "source": [
    "# Basic example\n",
    "num = int(input(\"Enter a number: \"))\n",
    "if num > 10:\n",
    "    print(num, \"is greater than 10\")"
   ]
  },
  {
   "cell_type": "code",
   "execution_count": 3,
   "metadata": {},
   "outputs": [
    {
     "name": "stdout",
     "output_type": "stream",
     "text": [
      "Enter a number: 15\n",
      "15 is greater than 10\n"
     ]
    }
   ],
   "source": [
    "num = int(input(\"Enter a number: \"))\n",
    "if num > 10:\n",
    "    print(num, \"is greater than 10\")\n",
    "elif num == 10:\n",
    "    print(num, \"is equal to 10\")\n",
    "else:\n",
    "    print(num, \"is less than 10\")"
   ]
  },
  {
   "cell_type": "code",
   "execution_count": 5,
   "metadata": {},
   "outputs": [
    {
     "name": "stdout",
     "output_type": "stream",
     "text": [
      "Enter your age: 19\n",
      "You are eligible\n"
     ]
    }
   ],
   "source": [
    "# Vote eligibility \n",
    "age = int(input(\"Enter your age: \"))\n",
    "if age >= 18:\n",
    "    print(\"You are eligible\")\n",
    "else:\n",
    "    print(\"You are not eligible\")"
   ]
  },
  {
   "cell_type": "markdown",
   "metadata": {},
   "source": [
    "- Tasks\n",
    "    - Leap year\n",
    "    - Even or odd"
   ]
  },
  {
   "cell_type": "code",
   "execution_count": 2,
   "metadata": {},
   "outputs": [
    {
     "name": "stdout",
     "output_type": "stream",
     "text": [
      "Enter the year: 2000\n",
      "Leap Year\n"
     ]
    }
   ],
   "source": [
    "# Leap year\n",
    "year = int(input(\"Enter the year: \"))\n",
    "if year % 400 == 0 or (year % 100 != 0 and year % 4 == 0):\n",
    "    print(\"Leap Year\")\n",
    "else :\n",
    "    print(\"Non-Leap Year\")"
   ]
  },
  {
   "cell_type": "code",
   "execution_count": 8,
   "metadata": {},
   "outputs": [
    {
     "name": "stdout",
     "output_type": "stream",
     "text": [
      "Enter any number: 5\n",
      "5 is odd\n"
     ]
    }
   ],
   "source": [
    "# Even or odd\n",
    "n = int(input(\"Enter any number: \"))\n",
    "if n % 2 == 0:\n",
    "    print(n, \"is even\")\n",
    "else :\n",
    "    print(n, \"is odd\")"
   ]
  },
  {
   "cell_type": "code",
   "execution_count": 11,
   "metadata": {},
   "outputs": [
    {
     "name": "stdout",
     "output_type": "stream",
     "text": [
      "Enter a number: 20\n",
      "Enter a number: 5\n",
      "Enter a number: 10\n",
      "20 is largest\n"
     ]
    }
   ],
   "source": [
    "# Find the largest of three numbers\n",
    "a = int(input(\"Enter a number: \"))\n",
    "b = int(input(\"Enter a number: \"))\n",
    "c = int(input(\"Enter a number: \"))\n",
    "\n",
    "if a > b and a > c:\n",
    "    print(a, \"is largest\")\n",
    "elif b > c:\n",
    "    print(b, \"is largest\")\n",
    "else :\n",
    "    print(c, \"is largest\")"
   ]
  },
  {
   "cell_type": "code",
   "execution_count": 14,
   "metadata": {},
   "outputs": [
    {
     "name": "stdout",
     "output_type": "stream",
     "text": [
      "Enter a number: -5\n",
      "n is negative\n"
     ]
    }
   ],
   "source": [
    "# Nested if example\n",
    "n = int(input(\"Enter a number: \"))\n",
    "if n >= 0:\n",
    "    if n == 0:\n",
    "        print(\"n is zero\")\n",
    "    else:\n",
    "        print(\"n is positive\")\n",
    "else :\n",
    "    print(\"n is negative\")"
   ]
  },
  {
   "cell_type": "code",
   "execution_count": 15,
   "metadata": {},
   "outputs": [
    {
     "name": "stdout",
     "output_type": "stream",
     "text": [
      "Enter a number: 5\n",
      "Enter lower range: 2\n",
      "Enter upper range: 10\n",
      "5 is in the given range\n"
     ]
    }
   ],
   "source": [
    "# check if the number is in the given range\n",
    "num = int(input(\"Enter a number: \"))\n",
    "lrange = int(input(\"Enter lower range: \"))\n",
    "urange = int(input(\"Enter upper range: \"))\n",
    "if num >= lrange and num <= urange:\n",
    "    print(num, \"is in the given range\")\n",
    "else :\n",
    "    print(num, \"not in the given range\")"
   ]
  },
  {
   "cell_type": "markdown",
   "metadata": {},
   "source": [
    "- Tasks\n",
    "    - check the given number is multiple of 10\n",
    "    - check the given number is factor of 100\n",
    "    - calculate number of nanoseconds in a year\n",
    "    - check a chr is alphabet, number or special char\n",
    "        - input - a -- alphabet\n",
    "                - 5 -- number\n",
    "                - @ -- special char\n",
    "    - input number \n",
    "        - check if it is even or not\n",
    "            - if number is even lessthan 5 calculate square of that number\n",
    "                - greater than 5 calculate cube of that number\n",
    "            - print odd"
   ]
  },
  {
   "cell_type": "code",
   "execution_count": 17,
   "metadata": {},
   "outputs": [
    {
     "name": "stdout",
     "output_type": "stream",
     "text": [
      "Enter a number: 100\n",
      "100 is multiple of 10\n"
     ]
    }
   ],
   "source": [
    "# Multiple of 10\n",
    "n = int(input(\"Enter a number: \"))\n",
    "if n % 10 == 0:\n",
    "    print(n, \"is multiple of 10\")\n",
    "else:\n",
    "    print(n, \"is not multiple of 10\")"
   ]
  },
  {
   "cell_type": "code",
   "execution_count": 18,
   "metadata": {},
   "outputs": [
    {
     "name": "stdout",
     "output_type": "stream",
     "text": [
      "Enter a number: 2\n",
      "2 is factor of 100\n"
     ]
    }
   ],
   "source": [
    "# factor of 100\n",
    "n = int(input(\"Enter a number: \"))\n",
    "if 100 % n == 0:\n",
    "    print(n, \"is factor of 100\")\n",
    "else:\n",
    "    print(n, \"is not factor of 100\")"
   ]
  },
  {
   "cell_type": "code",
   "execution_count": 20,
   "metadata": {},
   "outputs": [
    {
     "name": "stdout",
     "output_type": "stream",
     "text": [
      "Enter year: 2020\n",
      "31622400000000000 nanoseconds\n"
     ]
    }
   ],
   "source": [
    "# nanoseconds in a year\n",
    "year = int(input(\"Enter year: \"))\n",
    "days = 365\n",
    "if year % 400 == 0 or (year % 100 != 0 and year % 4 == 0):\n",
    "    days = 366\n",
    "    \n",
    "nanoseconds = days * 24 * 60 * 60 * 1000000000\n",
    "print(nanoseconds, \"nanoseconds\")\n"
   ]
  },
  {
   "cell_type": "code",
   "execution_count": 4,
   "metadata": {},
   "outputs": [
    {
     "name": "stdout",
     "output_type": "stream",
     "text": [
      "Enter any char: `\n",
      "Special character\n"
     ]
    }
   ],
   "source": [
    "# check a chr is alphabet, number or special char\n",
    "char = input(\"Enter any char: \")\n",
    "ascii = ord(char)\n",
    "if ((ascii >= 65 and ascii <= 90) or (ascii >= 97 and ascii <= 122)):\n",
    "    print(\"Alphabet\")\n",
    "elif (ascii >= 48 and ascii <= 57):\n",
    "    print(\"Digit\")\n",
    "else:\n",
    "    print(\"Special character\")"
   ]
  },
  {
   "cell_type": "code",
   "execution_count": 21,
   "metadata": {},
   "outputs": [
    {
     "name": "stdout",
     "output_type": "stream",
     "text": [
      "Enter a number: 4\n",
      "16\n"
     ]
    }
   ],
   "source": [
    "n = int(input(\"Enter a number: \"))\n",
    "if n % 2 == 0:\n",
    "    if n < 5:\n",
    "        print(n ** 2)\n",
    "    else: \n",
    "        print(n ** 3)\n",
    "else :\n",
    "    print(n)"
   ]
  },
  {
   "cell_type": "markdown",
   "metadata": {},
   "source": [
    " - Iterations\n",
    "    - Programming structure that repeats a sequence \n",
    "      if instructions untill the code satisfies\n",
    "    - code reusability\n",
    "    - for loop\n",
    "        - pre tested loop\n",
    "        - number of iterations are known in advance\n",
    "        - syntax\n",
    "            - for iterating_var in seq/iterator\n",
    "    - while loop\n",
    "        - pretested loop\n",
    "        - number of interations are not known"
   ]
  },
  {
   "cell_type": "markdown",
   "metadata": {},
   "source": [
    "for i in range(inrange, outrange, stepvalue)"
   ]
  },
  {
   "cell_type": "code",
   "execution_count": 24,
   "metadata": {},
   "outputs": [
    {
     "name": "stdout",
     "output_type": "stream",
     "text": [
      "1 2 3 4 5 6 7 8 9 "
     ]
    }
   ],
   "source": [
    "for i in range(1, 10):\n",
    "    print(i, end = \" \")"
   ]
  },
  {
   "cell_type": "code",
   "execution_count": 25,
   "metadata": {},
   "outputs": [
    {
     "name": "stdout",
     "output_type": "stream",
     "text": [
      "1 3 5 7 9 11 13 15 17 19 "
     ]
    }
   ],
   "source": [
    "for i in range(1, 20, 2):\n",
    "    print(i, end = \" \")"
   ]
  },
  {
   "cell_type": "markdown",
   "metadata": {},
   "source": [
    "- Nested for loop\n",
    "    - for iter_val in seq:  \n",
    "        - for iter_val in seq:\n",
    "            statements"
   ]
  },
  {
   "cell_type": "code",
   "execution_count": 30,
   "metadata": {},
   "outputs": [
    {
     "name": "stdout",
     "output_type": "stream",
     "text": [
      "Enter a number: 15\n",
      "Enter number of multiples: 20\n",
      "15 * 1 = 15\n",
      "15 * 2 = 30\n",
      "15 * 3 = 45\n",
      "15 * 4 = 60\n",
      "15 * 5 = 75\n",
      "15 * 6 = 90\n",
      "15 * 7 = 105\n",
      "15 * 8 = 120\n",
      "15 * 9 = 135\n",
      "15 * 10 = 150\n",
      "15 * 11 = 165\n",
      "15 * 12 = 180\n",
      "15 * 13 = 195\n",
      "15 * 14 = 210\n",
      "15 * 15 = 225\n",
      "15 * 16 = 240\n",
      "15 * 17 = 255\n",
      "15 * 18 = 270\n",
      "15 * 19 = 285\n",
      "15 * 20 = 300\n"
     ]
    }
   ],
   "source": [
    "# Print table using for\n",
    "n = int(input(\"Enter a number: \"))\n",
    "m = int(input(\"Enter number of multiples: \"))\n",
    "for i in range(1, m + 1) :\n",
    "    print(n, \"*\", i, \"=\", n * i)"
   ]
  },
  {
   "cell_type": "code",
   "execution_count": 34,
   "metadata": {},
   "outputs": [
    {
     "name": "stdout",
     "output_type": "stream",
     "text": [
      "Enter inrange: 2\n",
      "Enter outrange: 5\n",
      "Enter number of multiples: 10\n",
      "2 * 1 = 2\n",
      "2 * 2 = 4\n",
      "2 * 3 = 6\n",
      "2 * 4 = 8\n",
      "2 * 5 = 10\n",
      "2 * 6 = 12\n",
      "2 * 7 = 14\n",
      "2 * 8 = 16\n",
      "2 * 9 = 18\n",
      "2 * 10 = 20\n",
      "----------------------------------\n",
      "3 * 1 = 3\n",
      "3 * 2 = 6\n",
      "3 * 3 = 9\n",
      "3 * 4 = 12\n",
      "3 * 5 = 15\n",
      "3 * 6 = 18\n",
      "3 * 7 = 21\n",
      "3 * 8 = 24\n",
      "3 * 9 = 27\n",
      "3 * 10 = 30\n",
      "----------------------------------\n",
      "4 * 1 = 4\n",
      "4 * 2 = 8\n",
      "4 * 3 = 12\n",
      "4 * 4 = 16\n",
      "4 * 5 = 20\n",
      "4 * 6 = 24\n",
      "4 * 7 = 28\n",
      "4 * 8 = 32\n",
      "4 * 9 = 36\n",
      "4 * 10 = 40\n",
      "----------------------------------\n"
     ]
    }
   ],
   "source": [
    "# Print table in a range\n",
    "inrange = int(input(\"Enter inrange: \"))\n",
    "outrange = int(input(\"Enter outrange: \"))\n",
    "n = int(input(\"Enter number of multiples: \"))\n",
    "for j in range(inrange, outrange):\n",
    "    for i in range(1, n + 1) :\n",
    "        print(j, \"*\", i, \"=\", j * i)\n",
    "    print(\"----------------------------------\")"
   ]
  },
  {
   "cell_type": "code",
   "execution_count": 40,
   "metadata": {},
   "outputs": [
    {
     "name": "stdout",
     "output_type": "stream",
     "text": [
      "0 \n",
      "0 1 \n",
      "0 1 2 \n",
      "0 1 2 3 \n",
      "0 1 2 3 4 \n"
     ]
    }
   ],
   "source": [
    "# Nested for loop\n",
    "for i in range(1, 6):\n",
    "    for j in range(0, i):\n",
    "        print(j, end = \" \")\n",
    "    print('')"
   ]
  },
  {
   "cell_type": "code",
   "execution_count": null,
   "metadata": {},
   "outputs": [],
   "source": [
    "# Nested for loop\n",
    "for i in range(1, 6):\n",
    "    for j in range(0, i):\n",
    "        print(j, end = \" \")\n",
    "    print('')"
   ]
  },
  {
   "cell_type": "code",
   "execution_count": null,
   "metadata": {},
   "outputs": [],
   "source": []
  }
 ],
 "metadata": {
  "kernelspec": {
   "display_name": "Python 3",
   "language": "python",
   "name": "python3"
  },
  "language_info": {
   "codemirror_mode": {
    "name": "ipython",
    "version": 3
   },
   "file_extension": ".py",
   "mimetype": "text/x-python",
   "name": "python",
   "nbconvert_exporter": "python",
   "pygments_lexer": "ipython3",
   "version": "3.8.3"
  }
 },
 "nbformat": 4,
 "nbformat_minor": 4
}
