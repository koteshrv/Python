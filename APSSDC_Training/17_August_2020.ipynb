{
 "cells": [
  {
   "cell_type": "markdown",
   "metadata": {},
   "source": [
    "- Basic OOPS concepts\n",
    "     - Object oriented programming\n",
    "     - class\n",
    "         - collection of variables and methods\n",
    "         - difference between function and method\n",
    "             - function - collection of statements\n",
    "             - method - function defined inside a class is known as method\n",
    "         - syntax: \n",
    "             - class className:\n",
    "             - class name should start with capital letter\n",
    "     - object\n",
    "         - blueprint of class\n",
    "         - memory is allocated\n",
    "         - objectname = classname\n",
    "     - constructor\n",
    "     - inheritence\n",
    "     - packages and modules using OOPS"
   ]
  },
  {
   "cell_type": "code",
   "execution_count": 1,
   "metadata": {},
   "outputs": [],
   "source": [
    "class Hi:\n",
    "    a = 10\n",
    "    b = 2\n",
    "    def display():\n",
    "        print(\"Hi I am from display function\")"
   ]
  },
  {
   "cell_type": "code",
   "execution_count": 2,
   "metadata": {},
   "outputs": [
    {
     "data": {
      "text/plain": [
       "10"
      ]
     },
     "execution_count": 2,
     "metadata": {},
     "output_type": "execute_result"
    }
   ],
   "source": [
    "Hi.a"
   ]
  },
  {
   "cell_type": "code",
   "execution_count": 3,
   "metadata": {},
   "outputs": [
    {
     "data": {
      "text/plain": [
       "2"
      ]
     },
     "execution_count": 3,
     "metadata": {},
     "output_type": "execute_result"
    }
   ],
   "source": [
    "Hi.b"
   ]
  },
  {
   "cell_type": "code",
   "execution_count": 4,
   "metadata": {},
   "outputs": [
    {
     "data": {
      "text/plain": [
       "10"
      ]
     },
     "execution_count": 4,
     "metadata": {},
     "output_type": "execute_result"
    }
   ],
   "source": [
    "obj = Hi\n",
    "obj.a"
   ]
  },
  {
   "cell_type": "code",
   "execution_count": 5,
   "metadata": {},
   "outputs": [
    {
     "name": "stdout",
     "output_type": "stream",
     "text": [
      "Hi I am from display function\n"
     ]
    }
   ],
   "source": [
    "obj.display()"
   ]
  },
  {
   "cell_type": "code",
   "execution_count": 8,
   "metadata": {},
   "outputs": [],
   "source": [
    "obj.a = 50"
   ]
  },
  {
   "cell_type": "code",
   "execution_count": 9,
   "metadata": {},
   "outputs": [
    {
     "data": {
      "text/plain": [
       "50"
      ]
     },
     "execution_count": 9,
     "metadata": {},
     "output_type": "execute_result"
    }
   ],
   "source": [
    "obj.a"
   ]
  },
  {
   "cell_type": "code",
   "execution_count": 10,
   "metadata": {},
   "outputs": [
    {
     "data": {
      "text/plain": [
       "50"
      ]
     },
     "execution_count": 10,
     "metadata": {},
     "output_type": "execute_result"
    }
   ],
   "source": [
    "Hi.a"
   ]
  },
  {
   "cell_type": "code",
   "execution_count": 12,
   "metadata": {},
   "outputs": [
    {
     "name": "stdout",
     "output_type": "stream",
     "text": [
      "20\n"
     ]
    }
   ],
   "source": [
    "class Math:\n",
    "    def add(a, b):\n",
    "        return a + b\n",
    "    \n",
    "    def mul(a, b):\n",
    "        return a * b\n",
    "    \n",
    "m = Math\n",
    "print(m.add(5, 15))"
   ]
  },
  {
   "cell_type": "markdown",
   "metadata": {},
   "source": [
    "- Constructor\n",
    "    - special kind of method in python\n",
    "    - syntax\n",
    "        - class className:\n",
    "             def __init__(self): # self is a default parameter\n",
    "                 statements\n",
    "             def __init__(self, a, b):\n",
    "                 statements\n",
    "             def __init__(a, self, b): # first variable act as default paramter\n",
    "                 statements\n",
    "                 \n",
    "    - create object for class but doesnot use that object for class"
   ]
  },
  {
   "cell_type": "code",
   "execution_count": 13,
   "metadata": {},
   "outputs": [
    {
     "name": "stdout",
     "output_type": "stream",
     "text": [
      "I am calling without using object\n"
     ]
    }
   ],
   "source": [
    "class Maths:\n",
    "    def __init__(self, name, number):\n",
    "        self.name = name\n",
    "        self.number = number\n",
    "        print(\"I am calling without using object\")\n",
    "\n",
    "obj = Maths(\"python\", 123)"
   ]
  },
  {
   "cell_type": "code",
   "execution_count": 16,
   "metadata": {},
   "outputs": [
    {
     "name": "stdout",
     "output_type": "stream",
     "text": [
      "5\n",
      "10\n"
     ]
    },
    {
     "data": {
      "text/plain": [
       "25"
      ]
     },
     "execution_count": 16,
     "metadata": {},
     "output_type": "execute_result"
    }
   ],
   "source": [
    "class Calci:\n",
    "    def __init__(abc, val1, val2):\n",
    "        abc.val1 = val1\n",
    "        abc.val2 = val2\n",
    "    def show(abc):\n",
    "        print(abc.val1)\n",
    "        print(abc.val2)\n",
    "    def add(abc, val3):\n",
    "        return abc.val1 + abc.val2 + val3\n",
    "            \n",
    "ma = Calci(5, 10)\n",
    "ma.show()\n",
    "ma.add(10)"
   ]
  },
  {
   "cell_type": "code",
   "execution_count": 18,
   "metadata": {},
   "outputs": [
    {
     "data": {
      "text/plain": [
       "('kotesh', 'PVPSIT')"
      ]
     },
     "execution_count": 18,
     "metadata": {},
     "output_type": "execute_result"
    }
   ],
   "source": [
    "class Userinfo:\n",
    "    def __init__(self, name, org):\n",
    "        self.name = name\n",
    "        self.org = org\n",
    "    def show(self):\n",
    "        return (self.name, self.org)\n",
    "    \n",
    "ui = Userinfo(\"kotesh\", \"PVPSIT\")\n",
    "ui.show()"
   ]
  },
  {
   "cell_type": "markdown",
   "metadata": {},
   "source": [
    "- Inheritence\n",
    "    - trying to inherit something from parent class to child class\n",
    "    - syntax:\n",
    "        class childclass(parentclass):\n",
    "    - types of inheritence\n",
    "        - single level\n",
    "            - only one parent class and one child class\n",
    "        - multi level\n",
    "            - one or more parent class and one or more child class\n",
    "        - multiple level\n",
    "            - more than one parent class and one single child class\n",
    "        - hybrid\n",
    "            - combination of above three inherience\n",
    "            - multiple parent class and multiple child"
   ]
  },
  {
   "cell_type": "code",
   "execution_count": 21,
   "metadata": {},
   "outputs": [
    {
     "name": "stdout",
     "output_type": "stream",
     "text": [
      "20\n",
      "10\n",
      "Hi I am from class A\n",
      "None\n"
     ]
    }
   ],
   "source": [
    "# single level inheritence\n",
    "class ClassA:\n",
    "    a, b = 10, 20\n",
    "    def classA():\n",
    "        print(\"Hi I am from class A\")\n",
    "        \n",
    "class ClassB(ClassA):\n",
    "    d, g = 20, 30\n",
    "    def classB():\n",
    "        print(\"Hi I am from class B\")\n",
    "obj = ClassB\n",
    "print(obj.d)\n",
    "print(obj.a)\n",
    "print(obj.classA())"
   ]
  },
  {
   "cell_type": "code",
   "execution_count": 25,
   "metadata": {},
   "outputs": [
    {
     "name": "stdout",
     "output_type": "stream",
     "text": [
      "Hi I am from class A\n",
      "Hi I am from class B\n",
      "Hi I am from class C\n"
     ]
    }
   ],
   "source": [
    "# multi level inheritence\n",
    "class A:\n",
    "    def classA():\n",
    "        print(\"Hi I am from class A\")\n",
    "        \n",
    "class B(A):\n",
    "    def classB():\n",
    "        print(\"Hi I am from class B\")\n",
    "        \n",
    "class C(B):\n",
    "    def classC():\n",
    "        print(\"Hi I am from class C\")\n",
    "        \n",
    "obj = C\n",
    "obj.classA()\n",
    "obj.classB()\n",
    "obj.classC()"
   ]
  },
  {
   "cell_type": "code",
   "execution_count": 26,
   "metadata": {},
   "outputs": [
    {
     "name": "stdout",
     "output_type": "stream",
     "text": [
      "Hi I am from class A\n",
      "Hi I am from class B\n",
      "Hi I am from class C\n"
     ]
    }
   ],
   "source": [
    "# multi level inheritence\n",
    "class A:\n",
    "    def classA():\n",
    "        print(\"Hi I am from class A\")\n",
    "        \n",
    "class B:\n",
    "    def classB():\n",
    "        print(\"Hi I am from class B\")\n",
    "        \n",
    "class C(A, B):\n",
    "    def classC():\n",
    "        print(\"Hi I am from class C\")\n",
    "        \n",
    "obj = C\n",
    "obj.classA()\n",
    "obj.classB()\n",
    "obj.classC()"
   ]
  },
  {
   "cell_type": "code",
   "execution_count": 28,
   "metadata": {},
   "outputs": [
    {
     "ename": "TypeError",
     "evalue": "Cannot create a consistent method resolution\norder (MRO) for bases A, B",
     "output_type": "error",
     "traceback": [
      "\u001b[1;31m---------------------------------------------------------------------------\u001b[0m",
      "\u001b[1;31mTypeError\u001b[0m                                 Traceback (most recent call last)",
      "\u001b[1;32m<ipython-input-28-b5f666215bd2>\u001b[0m in \u001b[0;36m<module>\u001b[1;34m\u001b[0m\n\u001b[0;32m     11\u001b[0m         \u001b[0mprint\u001b[0m\u001b[1;33m(\u001b[0m\u001b[1;34m\"Hi I am from class B\"\u001b[0m\u001b[1;33m)\u001b[0m\u001b[1;33m\u001b[0m\u001b[1;33m\u001b[0m\u001b[0m\n\u001b[0;32m     12\u001b[0m \u001b[1;33m\u001b[0m\u001b[0m\n\u001b[1;32m---> 13\u001b[1;33m \u001b[1;32mclass\u001b[0m \u001b[0mC\u001b[0m\u001b[1;33m(\u001b[0m\u001b[0mA\u001b[0m\u001b[1;33m,\u001b[0m \u001b[0mB\u001b[0m\u001b[1;33m)\u001b[0m\u001b[1;33m:\u001b[0m\u001b[1;33m\u001b[0m\u001b[1;33m\u001b[0m\u001b[0m\n\u001b[0m\u001b[0;32m     14\u001b[0m     \u001b[1;32mdef\u001b[0m \u001b[0mclassC\u001b[0m\u001b[1;33m(\u001b[0m\u001b[1;33m)\u001b[0m\u001b[1;33m:\u001b[0m\u001b[1;33m\u001b[0m\u001b[1;33m\u001b[0m\u001b[0m\n\u001b[0;32m     15\u001b[0m         \u001b[0mprint\u001b[0m\u001b[1;33m(\u001b[0m\u001b[1;34m\"Hi I am from class C\"\u001b[0m\u001b[1;33m)\u001b[0m\u001b[1;33m\u001b[0m\u001b[1;33m\u001b[0m\u001b[0m\n",
      "\u001b[1;31mTypeError\u001b[0m: Cannot create a consistent method resolution\norder (MRO) for bases A, B"
     ]
    }
   ],
   "source": [
    "class A:\n",
    "    def classA():\n",
    "        print(\"Hi I am from class A\")\n",
    "        \n",
    "class D(A):\n",
    "    def classD():\n",
    "        print(\"Hi I am from class D\")\n",
    "        \n",
    "class B(D):\n",
    "    def classB():\n",
    "        print(\"Hi I am from class B\")\n",
    "        \n",
    "class C(A, B):\n",
    "    def classC():\n",
    "        print(\"Hi I am from class C\")\n",
    "        \n",
    "obj = C\n",
    "obj.classA()\n",
    "obj.classB()\n",
    "obj.classC()\n",
    "obj.classD()"
   ]
  },
  {
   "cell_type": "markdown",
   "metadata": {},
   "source": [
    "- Packages and modules\n",
    "    - same as functions\n",
    "    - here we deal with classes and objects\n",
    "    - package(folder) ---- collection of modules\n",
    "    - module(.py file) ---- collection of fucntions and classes\n",
    "\n",
    "- Accessing modules\n",
    "    - import package\n",
    "    - from module import class"
   ]
  },
  {
   "cell_type": "code",
   "execution_count": 34,
   "metadata": {},
   "outputs": [
    {
     "data": {
      "text/plain": [
       "20"
      ]
     },
     "execution_count": 34,
     "metadata": {},
     "output_type": "execute_result"
    }
   ],
   "source": [
    "from Packages import mymodule\n",
    "obj = mymodule.Calci\n",
    "obj.add(10, 10)"
   ]
  },
  {
   "cell_type": "code",
   "execution_count": 36,
   "metadata": {},
   "outputs": [
    {
     "name": "stdout",
     "output_type": "stream",
     "text": [
      "20\n",
      "100\n"
     ]
    }
   ],
   "source": [
    "from Packages import mymodule\n",
    "obj = mymodule.Calci1(10, 10)\n",
    "print(obj.__add__())\n",
    "print(obj.__mul__())"
   ]
  },
  {
   "cell_type": "code",
   "execution_count": null,
   "metadata": {},
   "outputs": [],
   "source": []
  }
 ],
 "metadata": {
  "kernelspec": {
   "display_name": "Python 3",
   "language": "python",
   "name": "python3"
  },
  "language_info": {
   "codemirror_mode": {
    "name": "ipython",
    "version": 3
   },
   "file_extension": ".py",
   "mimetype": "text/x-python",
   "name": "python",
   "nbconvert_exporter": "python",
   "pygments_lexer": "ipython3",
   "version": "3.8.3"
  }
 },
 "nbformat": 4,
 "nbformat_minor": 4
}
