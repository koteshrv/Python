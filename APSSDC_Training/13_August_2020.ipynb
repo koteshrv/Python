{
 "cells": [
  {
   "cell_type": "code",
   "execution_count": null,
   "metadata": {},
   "outputs": [],
   "source": []
  },
  {
   "cell_type": "code",
   "execution_count": 4,
   "metadata": {},
   "outputs": [
    {
     "name": "stdout",
     "output_type": "stream",
     "text": [
      "<class '_io.TextIOWrapper'>\n",
      "Welcome to python online programming \n"
     ]
    }
   ],
   "source": [
    "# open\n",
    "f = open('Datafiles/info.txt') # by default it takes read mode\n",
    "print(type(f))\n",
    "data = f.read()\n",
    "print(data)\n",
    "f.close()"
   ]
  },
  {
   "cell_type": "code",
   "execution_count": 7,
   "metadata": {},
   "outputs": [
    {
     "name": "stdout",
     "output_type": "stream",
     "text": [
      "Welcome to python online programming \n",
      "<class 'str'>\n"
     ]
    }
   ],
   "source": [
    "with open('Datafiles/info.txt') as fh:\n",
    "    info = fh.read()\n",
    "    print(info)\n",
    "    print(type(info))"
   ]
  },
  {
   "cell_type": "code",
   "execution_count": 9,
   "metadata": {},
   "outputs": [
    {
     "name": "stdout",
     "output_type": "stream",
     "text": [
      "6\n",
      "APSSDC\n"
     ]
    }
   ],
   "source": [
    "# write operation\n",
    "with open('Datafiles/info.txt', 'w') as fh:\n",
    "    fa = fh.write('APSSDC') # returns the length of the file\n",
    "    print(fa)\n",
    "    \n",
    "with open('Datafiles/info.txt') as fh:\n",
    "    info = fh.read()\n",
    "    print(info)"
   ]
  },
  {
   "cell_type": "code",
   "execution_count": 10,
   "metadata": {},
   "outputs": [
    {
     "ename": "FileNotFoundError",
     "evalue": "[Errno 2] No such file or directory: 'Datafiles/data.txt'",
     "output_type": "error",
     "traceback": [
      "\u001b[1;31m---------------------------------------------------------------------------\u001b[0m",
      "\u001b[1;31mFileNotFoundError\u001b[0m                         Traceback (most recent call last)",
      "\u001b[1;32m<ipython-input-10-c9812ff02a8e>\u001b[0m in \u001b[0;36m<module>\u001b[1;34m\u001b[0m\n\u001b[1;32m----> 1\u001b[1;33m \u001b[1;32mwith\u001b[0m \u001b[0mopen\u001b[0m\u001b[1;33m(\u001b[0m\u001b[1;34m'Datafiles/data.txt'\u001b[0m\u001b[1;33m)\u001b[0m \u001b[1;32mas\u001b[0m \u001b[0mfh\u001b[0m\u001b[1;33m:\u001b[0m\u001b[1;33m\u001b[0m\u001b[1;33m\u001b[0m\u001b[0m\n\u001b[0m\u001b[0;32m      2\u001b[0m     \u001b[0minfo\u001b[0m \u001b[1;33m=\u001b[0m \u001b[0mfh\u001b[0m\u001b[1;33m.\u001b[0m\u001b[0mread\u001b[0m\u001b[1;33m(\u001b[0m\u001b[1;33m)\u001b[0m\u001b[1;33m\u001b[0m\u001b[1;33m\u001b[0m\u001b[0m\n\u001b[0;32m      3\u001b[0m     \u001b[0mprint\u001b[0m\u001b[1;33m(\u001b[0m\u001b[0minfo\u001b[0m\u001b[1;33m)\u001b[0m\u001b[1;33m\u001b[0m\u001b[1;33m\u001b[0m\u001b[0m\n",
      "\u001b[1;31mFileNotFoundError\u001b[0m: [Errno 2] No such file or directory: 'Datafiles/data.txt'"
     ]
    }
   ],
   "source": [
    "# to read a file it should be in the specified path\n",
    "with open('Datafiles/data.txt') as fh: \n",
    "    info = fh.read()\n",
    "    print(info)"
   ]
  },
  {
   "cell_type": "code",
   "execution_count": 12,
   "metadata": {},
   "outputs": [
    {
     "name": "stdout",
     "output_type": "stream",
     "text": [
      "21\n"
     ]
    }
   ],
   "source": [
    "with open('Datafiles/data.txt', 'w') as fh: \n",
    "    info = fh.write('No data is found here')\n",
    "    print(info)"
   ]
  },
  {
   "cell_type": "code",
   "execution_count": 15,
   "metadata": {},
   "outputs": [
    {
     "name": "stdout",
     "output_type": "stream",
     "text": [
      "18\n",
      "No data is found here On 13 August 2020 On 13 August 2020\n"
     ]
    }
   ],
   "source": [
    "with open('Datafiles/data.txt', 'a') as fh: \n",
    "    info = fh.write(' On 13 August 2020')\n",
    "    print(info)\n",
    "    \n",
    "with open('Datafiles/data.txt') as fh: \n",
    "    info = fh.read()\n",
    "    print(info)"
   ]
  },
  {
   "cell_type": "markdown",
   "metadata": {},
   "source": [
    "- tell()\n",
    "    - helps to know the cursor position\n",
    "    \n",
    "- seek()\n",
    "    - helps to move the cursor the particular position"
   ]
  },
  {
   "cell_type": "code",
   "execution_count": 17,
   "metadata": {},
   "outputs": [
    {
     "name": "stdout",
     "output_type": "stream",
     "text": [
      "57\n"
     ]
    }
   ],
   "source": [
    "with open('Datafiles/data.txt') as fh:\n",
    "    fs = fh.read()\n",
    "    print(fh.tell())"
   ]
  },
  {
   "cell_type": "code",
   "execution_count": 18,
   "metadata": {},
   "outputs": [
    {
     "name": "stdout",
     "output_type": "stream",
     "text": [
      "57\n",
      " found here On 13 August 2020 On 13 August 2020\n"
     ]
    }
   ],
   "source": [
    "with open('Datafiles/data.txt') as fh:\n",
    "    fs = fh.read()\n",
    "    print(fh.tell())\n",
    "    fh.seek(10) # sets the cursor at that position\n",
    "    print(fh.read())"
   ]
  },
  {
   "cell_type": "code",
   "execution_count": 23,
   "metadata": {},
   "outputs": [
    {
     "name": "stdout",
     "output_type": "stream",
     "text": [
      "['No', 'data', 'is', 'found', 'here', 'On', '13', 'August', '2020', 'On', '13', 'August', '2020']\n"
     ]
    }
   ],
   "source": [
    "with open('Datafiles/data.txt') as fh: \n",
    "    fs = fh.read()\n",
    "    words = fs.split()\n",
    "    print(words)"
   ]
  },
  {
   "cell_type": "code",
   "execution_count": 29,
   "metadata": {},
   "outputs": [
    {
     "name": "stdout",
     "output_type": "stream",
     "text": [
      "8\n",
      "Now\n",
      "I\n",
      "am \n",
      "testing\n",
      "file\n",
      "operations\n",
      "in\n",
      "python"
     ]
    }
   ],
   "source": [
    "with open('Datafiles/demo.txt') as fh: \n",
    "    # print(fh.readlines())\n",
    "    # print(len(fh.readlines()))\n",
    "    fs = fh.readlines()\n",
    "    print(len(fs))\n",
    "    for i in fs:\n",
    "        print(i, end = '')"
   ]
  },
  {
   "cell_type": "markdown",
   "metadata": {},
   "source": [
    "- task\n",
    "    - character count with spaces\n",
    "    - without spaces\n",
    "    - word count\n",
    "    - unique words\n",
    "    - frequency of words"
   ]
  },
  {
   "cell_type": "markdown",
   "metadata": {},
   "source": [
    "- Data processing\n",
    "    - working with the data in the file"
   ]
  },
  {
   "cell_type": "code",
   "execution_count": 32,
   "metadata": {},
   "outputs": [
    {
     "name": "stdout",
     "output_type": "stream",
     "text": [
      "Enter student count: 50\n",
      "Enter lower mark range: 1\n",
      "Enter upper mark range: 100\n"
     ]
    }
   ],
   "source": [
    "# generate students marks randomly\n",
    "\n",
    "from random import randint\n",
    "\n",
    "def marksGen(n, lb, ub):\n",
    "    with open('Datafiles/marks.txt', 'w') as f:\n",
    "        for i in range(0, n):\n",
    "            r = randint(lb, ub)\n",
    "            f.write(str(r) + '\\n')\n",
    "        return\n",
    "    \n",
    "n = int(input('Enter student count: '))\n",
    "lb = int(input('Enter lower mark range: '))\n",
    "ub = int(input('Enter upper mark range: '))\n",
    "marksGen(n, lb, ub)         "
   ]
  },
  {
   "cell_type": "code",
   "execution_count": 36,
   "metadata": {},
   "outputs": [
    {
     "name": "stdout",
     "output_type": "stream",
     "text": [
      "['80', '57', '25', '87', '46', '95', '44', '53', '83', '100', '69', '21', '90', '78', '37', '45', '61', '12', '5', '58', '23', '46', '1', '36', '67', '11', '9', '33', '12', '53', '61', '12', '71', '16', '16', '20', '13', '25', '60', '24', '99', '26', '24', '71', '9', '85', '77', '66', '52', '54']\n"
     ]
    },
    {
     "data": {
      "text/plain": [
       "46.36"
      ]
     },
     "execution_count": 36,
     "metadata": {},
     "output_type": "execute_result"
    }
   ],
   "source": [
    "# class average\n",
    "\n",
    "def classAvg(filepath):\n",
    "    with open(filepath) as f:\n",
    "        filedata = f.read()\n",
    "        marks = filedata.split()\n",
    "        print(marks)\n",
    "        sum = 0\n",
    "        for mark in marks:\n",
    "            sum += int(mark)\n",
    "    return sum / len(marks)\n",
    "\n",
    "filepath = 'Datafiles/marks.txt'\n",
    "classAvg(filepath)"
   ]
  },
  {
   "cell_type": "markdown",
   "metadata": {},
   "source": [
    "- Report generation\n",
    "    - Percentage of students passed marks <= 35\n",
    "    - Percentage of students failed \n",
    "    - Percentage of students disctinction marks >= 75\n",
    "    - Highest mark frequency\n",
    "    - Lowest mark frequency"
   ]
  },
  {
   "cell_type": "code",
   "execution_count": 39,
   "metadata": {},
   "outputs": [
    {
     "data": {
      "text/plain": [
       "True"
      ]
     },
     "execution_count": 39,
     "metadata": {},
     "output_type": "execute_result"
    }
   ],
   "source": [
    "# find and replace\n",
    "\n",
    "def isWordExist(filePath, word):\n",
    "    with open(filepath) as f:\n",
    "        data = f.read()\n",
    "        words = data.split()\n",
    "        for word in words:\n",
    "            count = words.count(word)\n",
    "            return True\n",
    "        return False\n",
    "\n",
    "filePath = 'Datafiles/word.txt'\n",
    "isWordExist(filePath, 'Python')"
   ]
  },
  {
   "cell_type": "code",
   "execution_count": 43,
   "metadata": {},
   "outputs": [
    {
     "name": "stdout",
     "output_type": "stream",
     "text": [
      "Koti is an interpreted, high-level, general-purpose programming language. Created by Guido van Rossum and first released in 1991, Koti's design philosophy emphasizes code readability with its notable use of significant whitespace. Its language constructs and object-oriented approach aim to help programmers write clear, logical code for small and large-scale projects\n"
     ]
    }
   ],
   "source": [
    "with open('Datafiles/word.txt') as f:\n",
    "    fh = f.read()\n",
    "    if isWordExist(filepath, 'Python'):\n",
    "        data = fh.replace('Python', 'Koti')\n",
    "    \n",
    "with open('Datafiles/word.txt', 'w') as fh: \n",
    "    fs = fh.write(data)\n",
    "    \n",
    "with open('Datafiles/word.txt') as f:\n",
    "    fh = f.read()\n",
    "    print(fh)"
   ]
  },
  {
   "cell_type": "code",
   "execution_count": 33,
   "metadata": {},
   "outputs": [
    {
     "name": "stdout",
     "output_type": "stream",
     "text": [
      "Count with spaces: 368\n",
      "Count without spaces: 319\n",
      "Word Count:  50\n",
      "Unique words:  45\n",
      "Koti -- 1\n",
      "is -- 1\n",
      "an -- 1\n",
      "interpreted, -- 1\n",
      "high-level, -- 1\n",
      "general-purpose -- 1\n",
      "programming -- 1\n",
      "language. -- 1\n",
      "Created -- 1\n",
      "by -- 1\n",
      "Guido -- 1\n",
      "van -- 1\n",
      "Rossum -- 1\n",
      "and -- 3\n",
      "first -- 1\n",
      "released -- 1\n",
      "in -- 1\n",
      "1991, -- 1\n",
      "Koti's -- 1\n",
      "design -- 1\n",
      "philosophy -- 1\n",
      "emphasizes -- 1\n",
      "code -- 2\n",
      "readability -- 1\n",
      "with -- 1\n",
      "its -- 1\n",
      "notable -- 1\n",
      "use -- 1\n",
      "of -- 1\n",
      "significant -- 1\n",
      "whitespace. -- 1\n",
      "Its -- 1\n",
      "language -- 1\n",
      "constructs -- 1\n",
      "object-oriented -- 1\n",
      "approach -- 1\n",
      "aim -- 1\n",
      "to -- 1\n",
      "help -- 1\n",
      "programmers -- 1\n",
      "write -- 1\n",
      "clear, -- 1\n",
      "logical -- 1\n",
      "for -- 1\n",
      "small -- 1\n",
      "large-scale -- 1\n",
      "projects -- 1\n"
     ]
    }
   ],
   "source": [
    "'''- task\n",
    "    - character count with spaces\n",
    "    - without spaces\n",
    "    - word count\n",
    "    - unique words\n",
    "    - frequency of words\n",
    "'''\n",
    "\n",
    "def countWithSpaces(filepath):\n",
    "    f = open(filepath)\n",
    "    data = f.read()\n",
    "    print(\"Count with spaces:\", len(data))\n",
    "    \n",
    "def countWithoutSpaces(filepath):\n",
    "    f = open(filepath)\n",
    "    data = f.read()\n",
    "    count = 0\n",
    "    for char in data:\n",
    "        if char != ' ':\n",
    "            count += 1\n",
    "    print(\"Count without spaces:\", count)\n",
    "\n",
    "def wordCount(filepath):\n",
    "    f = open(filepath)\n",
    "    data = f.read()\n",
    "    print(\"Word Count: \", len(data.split()))\n",
    "\n",
    "def unique(filepath):\n",
    "    f = open(filepath)\n",
    "    data = f.read()\n",
    "    words = data.split()\n",
    "    dict = {}\n",
    "    for word in words:\n",
    "        if word in dict.keys():\n",
    "            dict[word] += 1\n",
    "        else:\n",
    "            dict[word] = 1\n",
    "    \n",
    "    count = 0\n",
    "    for values in dict.values():\n",
    "        if values == 1:\n",
    "            count += 1\n",
    "    print(\"Unique words: \", count)\n",
    "    \n",
    "def frequency(filepath):\n",
    "    f = open(filepath)\n",
    "    data = f.read()\n",
    "    words = data.split()\n",
    "    dict = {}\n",
    "    for word in words:\n",
    "        if word in dict.keys():\n",
    "            dict[word] += 1\n",
    "        else:\n",
    "            dict[word] = 1\n",
    "    \n",
    "    for key in dict.keys():\n",
    "        print(key, '--', dict[key])\n",
    " \n",
    "\n",
    "filepath = 'Datafiles/word.txt'\n",
    "countWithSpaces(filepath)\n",
    "countWithoutSpaces(filepath)\n",
    "wordCount(filepath)\n",
    "unique(filepath)\n",
    "frequency(filepath)\n",
    "    "
   ]
  },
  {
   "cell_type": "code",
   "execution_count": null,
   "metadata": {},
   "outputs": [],
   "source": []
  }
 ],
 "metadata": {
  "kernelspec": {
   "display_name": "Python 3",
   "language": "python",
   "name": "python3"
  },
  "language_info": {
   "codemirror_mode": {
    "name": "ipython",
    "version": 3
   },
   "file_extension": ".py",
   "mimetype": "text/x-python",
   "name": "python",
   "nbconvert_exporter": "python",
   "pygments_lexer": "ipython3",
   "version": "3.8.3"
  }
 },
 "nbformat": 4,
 "nbformat_minor": 4
}
