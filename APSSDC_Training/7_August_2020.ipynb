{
 "cells": [
  {
   "cell_type": "markdown",
   "metadata": {},
   "source": [
    "- Functions\n",
    "    - Group of statements to perform specific task\n",
    "    - If program goes larger, functions make it organized and manageble\n",
    "    - Types of functions\n",
    "        - User defined\n",
    "        - Pre-defined\n",
    "        - upto 67 predefined functions\n",
    "        - "
   ]
  },
  {
   "cell_type": "code",
   "execution_count": 2,
   "metadata": {},
   "outputs": [
    {
     "name": "stdout",
     "output_type": "stream",
     "text": [
      "['ArithmeticError', 'AssertionError', 'AttributeError', 'BaseException', 'BlockingIOError', 'BrokenPipeError', 'BufferError', 'BytesWarning', 'ChildProcessError', 'ConnectionAbortedError', 'ConnectionError', 'ConnectionRefusedError', 'ConnectionResetError', 'DeprecationWarning', 'EOFError', 'Ellipsis', 'EnvironmentError', 'Exception', 'False', 'FileExistsError', 'FileNotFoundError', 'FloatingPointError', 'FutureWarning', 'GeneratorExit', 'IOError', 'ImportError', 'ImportWarning', 'IndentationError', 'IndexError', 'InterruptedError', 'IsADirectoryError', 'KeyError', 'KeyboardInterrupt', 'LookupError', 'MemoryError', 'ModuleNotFoundError', 'NameError', 'None', 'NotADirectoryError', 'NotImplemented', 'NotImplementedError', 'OSError', 'OverflowError', 'PendingDeprecationWarning', 'PermissionError', 'ProcessLookupError', 'RecursionError', 'ReferenceError', 'ResourceWarning', 'RuntimeError', 'RuntimeWarning', 'StopAsyncIteration', 'StopIteration', 'SyntaxError', 'SyntaxWarning', 'SystemError', 'SystemExit', 'TabError', 'TimeoutError', 'True', 'TypeError', 'UnboundLocalError', 'UnicodeDecodeError', 'UnicodeEncodeError', 'UnicodeError', 'UnicodeTranslateError', 'UnicodeWarning', 'UserWarning', 'ValueError', 'Warning', 'WindowsError', 'ZeroDivisionError', '__IPYTHON__', '__build_class__', '__debug__', '__doc__', '__import__', '__loader__', '__name__', '__package__', '__spec__', 'abs', 'all', 'any', 'ascii', 'bin', 'bool', 'breakpoint', 'bytearray', 'bytes', 'callable', 'chr', 'classmethod', 'compile', 'complex', 'copyright', 'credits', 'delattr', 'dict', 'dir', 'display', 'divmod', 'enumerate', 'eval', 'exec', 'filter', 'float', 'format', 'frozenset', 'get_ipython', 'getattr', 'globals', 'hasattr', 'hash', 'help', 'hex', 'id', 'input', 'int', 'isinstance', 'issubclass', 'iter', 'len', 'license', 'list', 'locals', 'map', 'max', 'memoryview', 'min', 'next', 'object', 'oct', 'open', 'ord', 'pow', 'print', 'property', 'range', 'repr', 'reversed', 'round', 'set', 'setattr', 'slice', 'sorted', 'staticmethod', 'str', 'sum', 'super', 'tuple', 'type', 'vars', 'zip'] "
     ]
    }
   ],
   "source": [
    "print(dir(__builtins__), end = ' ')"
   ]
  },
  {
   "cell_type": "code",
   "execution_count": 3,
   "metadata": {},
   "outputs": [
    {
     "data": {
      "text/plain": [
       "98"
      ]
     },
     "execution_count": 3,
     "metadata": {},
     "output_type": "execute_result"
    }
   ],
   "source": [
    "#return abs value\n",
    "abs(-98)"
   ]
  },
  {
   "cell_type": "code",
   "execution_count": 4,
   "metadata": {},
   "outputs": [
    {
     "data": {
      "text/plain": [
       "False"
      ]
     },
     "execution_count": 4,
     "metadata": {},
     "output_type": "execute_result"
    }
   ],
   "source": [
    "# all\n",
    "all(('a', '&', ''))"
   ]
  },
  {
   "cell_type": "code",
   "execution_count": 5,
   "metadata": {},
   "outputs": [
    {
     "data": {
      "text/plain": [
       "True"
      ]
     },
     "execution_count": 5,
     "metadata": {},
     "output_type": "execute_result"
    }
   ],
   "source": [
    "a = ['a', '@', 1, 2, ' ']\n",
    "all(a)"
   ]
  },
  {
   "cell_type": "code",
   "execution_count": 6,
   "metadata": {},
   "outputs": [
    {
     "data": {
      "text/plain": [
       "False"
      ]
     },
     "execution_count": 6,
     "metadata": {},
     "output_type": "execute_result"
    }
   ],
   "source": [
    "all((1, 2, 3, 0))"
   ]
  },
  {
   "cell_type": "code",
   "execution_count": 7,
   "metadata": {},
   "outputs": [
    {
     "data": {
      "text/plain": [
       "True"
      ]
     },
     "execution_count": 7,
     "metadata": {},
     "output_type": "execute_result"
    }
   ],
   "source": [
    "any((1, 2, 3, 0))"
   ]
  },
  {
   "cell_type": "code",
   "execution_count": 8,
   "metadata": {},
   "outputs": [
    {
     "data": {
      "text/plain": [
       "4"
      ]
     },
     "execution_count": 8,
     "metadata": {},
     "output_type": "execute_result"
    }
   ],
   "source": [
    "list = [1, 2, 3, 4]\n",
    "len(list)"
   ]
  },
  {
   "cell_type": "code",
   "execution_count": 9,
   "metadata": {},
   "outputs": [
    {
     "data": {
      "text/plain": [
       "97"
      ]
     },
     "execution_count": 9,
     "metadata": {},
     "output_type": "execute_result"
    }
   ],
   "source": [
    "# ord returns ascii values\n",
    "ord('a')"
   ]
  },
  {
   "cell_type": "code",
   "execution_count": 10,
   "metadata": {},
   "outputs": [
    {
     "data": {
      "text/plain": [
       "'97'"
      ]
     },
     "execution_count": 10,
     "metadata": {},
     "output_type": "execute_result"
    }
   ],
   "source": [
    "ascii(97)"
   ]
  },
  {
   "cell_type": "code",
   "execution_count": 11,
   "metadata": {},
   "outputs": [
    {
     "data": {
      "text/plain": [
       "'a'"
      ]
     },
     "execution_count": 11,
     "metadata": {},
     "output_type": "execute_result"
    }
   ],
   "source": [
    "# returns char from ascii value\n",
    "chr(97)"
   ]
  },
  {
   "cell_type": "code",
   "execution_count": 13,
   "metadata": {},
   "outputs": [
    {
     "data": {
      "text/plain": [
       "1"
      ]
     },
     "execution_count": 13,
     "metadata": {},
     "output_type": "execute_result"
    }
   ],
   "source": [
    "min(list)"
   ]
  },
  {
   "cell_type": "code",
   "execution_count": 14,
   "metadata": {},
   "outputs": [
    {
     "data": {
      "text/plain": [
       "4"
      ]
     },
     "execution_count": 14,
     "metadata": {},
     "output_type": "execute_result"
    }
   ],
   "source": [
    "max(list)"
   ]
  },
  {
   "cell_type": "code",
   "execution_count": 16,
   "metadata": {},
   "outputs": [
    {
     "data": {
      "text/plain": [
       "10"
      ]
     },
     "execution_count": 16,
     "metadata": {},
     "output_type": "execute_result"
    }
   ],
   "source": [
    "sum(list)"
   ]
  },
  {
   "cell_type": "code",
   "execution_count": 17,
   "metadata": {},
   "outputs": [
    {
     "data": {
      "text/plain": [
       "9"
      ]
     },
     "execution_count": 17,
     "metadata": {},
     "output_type": "execute_result"
    }
   ],
   "source": [
    "round(8.69887458)"
   ]
  },
  {
   "cell_type": "code",
   "execution_count": 18,
   "metadata": {},
   "outputs": [
    {
     "data": {
      "text/plain": [
       "'0b1010'"
      ]
     },
     "execution_count": 18,
     "metadata": {},
     "output_type": "execute_result"
    }
   ],
   "source": [
    "bin(10)"
   ]
  },
  {
   "cell_type": "code",
   "execution_count": 19,
   "metadata": {},
   "outputs": [
    {
     "data": {
      "text/plain": [
       "'0x9f'"
      ]
     },
     "execution_count": 19,
     "metadata": {},
     "output_type": "execute_result"
    }
   ],
   "source": [
    "hex(159)"
   ]
  },
  {
   "cell_type": "code",
   "execution_count": 20,
   "metadata": {},
   "outputs": [
    {
     "data": {
      "text/plain": [
       "'0o70'"
      ]
     },
     "execution_count": 20,
     "metadata": {},
     "output_type": "execute_result"
    }
   ],
   "source": [
    "oct(56)"
   ]
  },
  {
   "cell_type": "markdown",
   "metadata": {},
   "source": [
    "- userdefined function\n",
    "    - synatx: \n",
    "        - def funcName():\n",
    "            - statements\n",
    "            - return statement"
   ]
  },
  {
   "cell_type": "code",
   "execution_count": 22,
   "metadata": {},
   "outputs": [
    {
     "name": "stdout",
     "output_type": "stream",
     "text": [
      "7\n"
     ]
    }
   ],
   "source": [
    "# basic example\n",
    "# with arg and return type\n",
    "def add(a, b):\n",
    "    return a + b\n",
    "\n",
    "print(add(3, 4))"
   ]
  },
  {
   "cell_type": "code",
   "execution_count": 27,
   "metadata": {},
   "outputs": [
    {
     "name": "stdout",
     "output_type": "stream",
     "text": [
      "120\n"
     ]
    }
   ],
   "source": [
    "# factorial\n",
    "\n",
    "def fact(a):\n",
    "    ans = 1\n",
    "    for i in range(a, 0, -1):\n",
    "        ans *= i\n",
    "    return ans\n",
    "\n",
    "print(fact(5))"
   ]
  },
  {
   "cell_type": "code",
   "execution_count": 29,
   "metadata": {},
   "outputs": [
    {
     "name": "stdout",
     "output_type": "stream",
     "text": [
      "120\n"
     ]
    }
   ],
   "source": [
    "# using recursion\n",
    "\n",
    "def fact(a):\n",
    "    if a == 1:\n",
    "        return a\n",
    "    else:\n",
    "        return a * fact(a - 1)\n",
    "    \n",
    "print(fact(5))"
   ]
  },
  {
   "cell_type": "markdown",
   "metadata": {},
   "source": [
    "- difference between return and print\n",
    "    - print statement just print the value in the function\n",
    "    - returns the value when we call the function\n",
    "    - default return None, when we dont use return\n",
    "    - return terminates the function"
   ]
  },
  {
   "cell_type": "markdown",
   "metadata": {},
   "source": [
    "- Arguments in functions\n",
    "    - able to call functions using these arguments\n",
    "        - required arguments\n",
    "            - arguments passing to function in correct positional order\n",
    "            - number of arguments in function call should match exactly with function defition\n",
    "        - keyword arguments\n",
    "        - default arguments\n",
    "        - variable lenght arguments"
   ]
  },
  {
   "cell_type": "code",
   "execution_count": 30,
   "metadata": {},
   "outputs": [
    {
     "name": "stdout",
     "output_type": "stream",
     "text": [
      "ECE 454\n"
     ]
    }
   ],
   "source": [
    "def details(branch, number):\n",
    "    print(branch, number)\n",
    "details(number = 454, branch = 'ECE')"
   ]
  },
  {
   "cell_type": "code",
   "execution_count": 33,
   "metadata": {},
   "outputs": [
    {
     "name": "stdout",
     "output_type": "stream",
     "text": [
      "ECE 454\n"
     ]
    }
   ],
   "source": [
    "# default arguments\n",
    "\n",
    "def details(number, branch = 'ECE'):\n",
    "    print(branch, number)\n",
    "    \n",
    "details(454)"
   ]
  },
  {
   "cell_type": "code",
   "execution_count": 35,
   "metadata": {},
   "outputs": [
    {
     "name": "stdout",
     "output_type": "stream",
     "text": [
      "CSE 454\n"
     ]
    }
   ],
   "source": [
    "details(454, 'CSE')"
   ]
  },
  {
   "cell_type": "code",
   "execution_count": 38,
   "metadata": {},
   "outputs": [
    {
     "name": "stdout",
     "output_type": "stream",
     "text": [
      "454 Kotesh Koti "
     ]
    }
   ],
   "source": [
    "def func(n, *args):\n",
    "    print(n, end = ' ')\n",
    "    for i in args:\n",
    "        print(i, end = ' ')\n",
    "func(454, 'Kotesh', 'Koti')"
   ]
  },
  {
   "cell_type": "code",
   "execution_count": 39,
   "metadata": {},
   "outputs": [
    {
     "data": {
      "text/plain": [
       "False"
      ]
     },
     "execution_count": 39,
     "metadata": {},
     "output_type": "execute_result"
    }
   ],
   "source": [
    "# leap year \n",
    "\n",
    "def isleapyear(year):\n",
    "    if year % 400 == 0 or (year % 100 != 0 and year % 4 == 0):\n",
    "        return True\n",
    "    return False\n",
    "isleapyear(1000)"
   ]
  },
  {
   "cell_type": "code",
   "execution_count": 41,
   "metadata": {},
   "outputs": [
    {
     "name": "stdout",
     "output_type": "stream",
     "text": [
      "Enter start year: 2000\n",
      "Enter end year: 2020\n",
      "2000 2004 2008 2012 2016 2020 "
     ]
    }
   ],
   "source": [
    "# leap year range\n",
    "\n",
    "def lyrange(startYear, endYear):\n",
    "    for year in range(startYear, endYear + 1):\n",
    "        if isleapyear(year):\n",
    "            print(year, end = ' ')\n",
    "\n",
    "startYear = int(input(\"Enter start year: \"))\n",
    "endYear = int(input(\"Enter end year: \"))\n",
    "lyrange(startYear, endYear)"
   ]
  },
  {
   "cell_type": "markdown",
   "metadata": {},
   "source": [
    "- Tasks\n",
    "    - print odd numbers in rev order\n",
    "    - print numbers div by 6 and not a factor of 100 with in range lb, ub\n",
    "    - perfect number check\n",
    "    - avg of cubes of all even number in range\n",
    "    - avg of first n primes"
   ]
  },
  {
   "cell_type": "code",
   "execution_count": 42,
   "metadata": {},
   "outputs": [
    {
     "name": "stdout",
     "output_type": "stream",
     "text": [
      "Enter lower range: 1\n",
      "Enter upper range: 15\n",
      "15 13 11 9 7 5 3 1 "
     ]
    }
   ],
   "source": [
    "# odd numbers in rev ord\n",
    "\n",
    "def odd(lr, ur):\n",
    "    for i in range(ur, lr - 1, -1):\n",
    "        if i % 2 != 0:\n",
    "            print(i, end = ' ')\n",
    "            \n",
    "lr = int(input(\"Enter lower range: \"))\n",
    "ur = int(input(\"Enter upper range: \"))\n",
    "odd(lr, ur)           "
   ]
  },
  {
   "cell_type": "code",
   "execution_count": 43,
   "metadata": {},
   "outputs": [
    {
     "name": "stdout",
     "output_type": "stream",
     "text": [
      "Enter lower range: 1\n",
      "Enter upper range: 20\n",
      "6 12 18 "
     ]
    }
   ],
   "source": [
    "# print numbers div by 6 and not a factor of 100 with in range lb, ub\n",
    "\n",
    "def fun(lr, ur):\n",
    "    for i in range(lr, ur + 1):\n",
    "        if i % 6 == 0 and 100 % i != 0:\n",
    "            print(i, end = ' ')\n",
    "\n",
    "lr = int(input(\"Enter lower range: \"))\n",
    "ur = int(input(\"Enter upper range: \"))\n",
    "fun(lr, ur) "
   ]
  },
  {
   "cell_type": "code",
   "execution_count": 46,
   "metadata": {},
   "outputs": [
    {
     "name": "stdout",
     "output_type": "stream",
     "text": [
      "Enter any number: 6\n",
      "1 2 3 "
     ]
    },
    {
     "data": {
      "text/plain": [
       "True"
      ]
     },
     "execution_count": 46,
     "metadata": {},
     "output_type": "execute_result"
    }
   ],
   "source": [
    "# perfect number check\n",
    "\n",
    "def perfectnum(n):\n",
    "    sum = 0\n",
    "    for i in range(1, n):\n",
    "        if n % i == 0:\n",
    "            print(i, end = ' ')\n",
    "            sum += i\n",
    "    if sum == n:\n",
    "        return True\n",
    "    return False\n",
    "\n",
    "n = int(input(\"Enter any number: \"))\n",
    "perfectnum(n)"
   ]
  },
  {
   "cell_type": "code",
   "execution_count": 48,
   "metadata": {},
   "outputs": [
    {
     "name": "stdout",
     "output_type": "stream",
     "text": [
      "Enter lower range: 1\n",
      "Enter upper range: 10\n",
      "360\n"
     ]
    }
   ],
   "source": [
    "# avg of cubes of all even number in range\n",
    "\n",
    "def cubes(lr, ur):\n",
    "    sum = 0\n",
    "    n = 0\n",
    "    for i in range(lr, ur + 1):\n",
    "        if i % 2 == 0:\n",
    "            sum += i ** 3\n",
    "            n += 1\n",
    "    print(sum / n)\n",
    "    \n",
    "lr = int(input(\"Enter lower range: \"))\n",
    "ur = int(input(\"Enter upper range: \"))\n",
    "cubes(lr, ur) "
   ]
  },
  {
   "cell_type": "code",
   "execution_count": 10,
   "metadata": {},
   "outputs": [
    {
     "name": "stdout",
     "output_type": "stream",
     "text": [
      "Enter any number: 20\n",
      "31.95\n"
     ]
    }
   ],
   "source": [
    "# avg of first n primes\n",
    "\n",
    "def isPrime(n):\n",
    "    if n > 1: \n",
    "        for i in range(2, n):  \n",
    "            if (n % i) == 0: \n",
    "                return False\n",
    "        else: \n",
    "            return True\n",
    "    else:\n",
    "        return False\n",
    "\n",
    "def avg(num):\n",
    "    sum = 0\n",
    "    count = 0\n",
    "    i = 1\n",
    "    while(count != num):\n",
    "        if isPrime(i):\n",
    "            #print(i, end = ' ')\n",
    "            sum += i\n",
    "            count += 1\n",
    "        i += 1\n",
    "    print(sum / count)\n",
    "    \n",
    "\n",
    "num = int(input(\"Enter any number: \"))\n",
    "avg(num)\n",
    "        "
   ]
  },
  {
   "cell_type": "code",
   "execution_count": null,
   "metadata": {},
   "outputs": [],
   "source": []
  }
 ],
 "metadata": {
  "kernelspec": {
   "display_name": "Python 3",
   "language": "python",
   "name": "python3"
  }
 },
 "nbformat": 4,
 "nbformat_minor": 4
}
