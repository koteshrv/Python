{
 "cells": [
  {
   "cell_type": "code",
   "execution_count": 1,
   "metadata": {},
   "outputs": [],
   "source": [
    "file = open('GFG_Readme.txt', 'w') \n",
    "with open(\"Questions.txt\",encoding='utf-8') as fp: \n",
    "    Lines = fp.readlines()\n",
    "    with open(\"Links.txt\",encoding='utf-8') as fs: \n",
    "        Links = fs.readlines()\n",
    "        with open(\"Topics.txt\",encoding='utf-8') as fp: \n",
    "            Topic = fp.readlines()\n",
    "            for (line,link,topic) in zip(Lines,Links,Topic): \n",
    "                string = \"\"\n",
    "                t=topic.rstrip()\n",
    "                string += t + '|'+ '[' + line[:-1] + '](' + link[:-1]+ ')' + '|' + '\\n'\n",
    "                file.write(string)\n",
    "            \n"
   ]
  },
  {
   "cell_type": "code",
   "execution_count": null,
   "metadata": {},
   "outputs": [],
   "source": []
  },
  {
   "cell_type": "code",
   "execution_count": null,
   "metadata": {},
   "outputs": [],
   "source": []
  },
  {
   "cell_type": "code",
   "execution_count": null,
   "metadata": {},
   "outputs": [],
   "source": []
  },
  {
   "cell_type": "code",
   "execution_count": null,
   "metadata": {},
   "outputs": [],
   "source": []
  }
 ],
 "metadata": {
  "kernelspec": {
   "display_name": "Python 3",
   "language": "python",
   "name": "python3"
  },
  "language_info": {
   "codemirror_mode": {
    "name": "ipython",
    "version": 3
   },
   "file_extension": ".py",
   "mimetype": "text/x-python",
   "name": "python",
   "nbconvert_exporter": "python",
   "pygments_lexer": "ipython3",
   "version": "3.8.5"
  }
 },
 "nbformat": 4,
 "nbformat_minor": 4
}
